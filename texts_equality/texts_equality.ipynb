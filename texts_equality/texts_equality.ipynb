{
 "cells": [
  {
   "cell_type": "markdown",
   "metadata": {},
   "source": [
    "https://www.coursera.org/learn/mathematics-and-python/programming/QySgp/linieinaia-alghiebra-skhodstvo-tiekstov-i-approksimatsiia-funktsii"
   ]
  },
  {
   "cell_type": "code",
   "execution_count": 138,
   "metadata": {},
   "outputs": [],
   "source": [
    "import numpy as np\n",
    "import pandas as pd\n",
    "import scipy.spatial\n",
    "import re\n",
    "from operator import itemgetter\n",
    "from functools import reduce\n",
    "import collections"
   ]
  },
  {
   "cell_type": "code",
   "execution_count": 121,
   "metadata": {},
   "outputs": [
    {
     "name": "stdout",
     "output_type": "stream",
     "text": [
      "in comparison to dogs, cats have not undergone major changes during the domestication process.\n",
      "\n",
      "domestic cats are similar in size to the other members of the genus felis, typically weighing between 4 and 5 kg (8.8 and 11.0 lb).\n",
      "\n",
      "in one, people deliberately tamed cats in a process of artificial selection, as they were useful predators of vermin.\n",
      "\n"
     ]
    }
   ],
   "source": [
    "file = open(\"sentences.txt\", \"r\")\n",
    "lines = file.readlines()\n",
    "lines = list(map(str.lower, lines))\n",
    "words_for_lines = list(map(lambda line: re.split(\"[^a-z]\", line), lines))\n",
    "words = sum(words_for_lines, [])\n",
    "words = list(filter(len, words))\n",
    "words_index = dict()\n",
    "for word in words:\n",
    "    if word not in words_index:\n",
    "        words_index[word] = len(words_index)\n",
    "d = len(words_index)\n",
    "n = len(list(lines))\n",
    "cnt_matrix = []\n",
    "for words_for_line in words_for_lines:\n",
    "    cnt_map_for_line = dict()\n",
    "    for word in words_for_line:\n",
    "        if word in cnt_map_for_line:\n",
    "            cnt_map_for_line[word] += 1\n",
    "        else:\n",
    "            cnt_map_for_line[word] = 1\n",
    "\n",
    "    cnt_line = [0] * d\n",
    "    for word in cnt_map_for_line:\n",
    "        if len(word) > 0:\n",
    "            cnt_line[words_index[word]] = cnt_map_for_line[word]\n",
    "    cnt_matrix.append(cnt_line)\n",
    "    \n",
    "\n",
    "distances = []\n",
    "for i in range(1, n):\n",
    "    distances.append({\n",
    "        \"value\": scipy.spatial.distance.cosine(cnt_matrix[0], cnt_matrix[i]),\n",
    "        \"index\": i \n",
    "    })\n",
    "distances = list(sorted(distances, key=itemgetter(\"value\")))\n",
    "output = open(\"submission-1.txt\", \"w\")\n",
    "output.write(f'{distances[0][\"index\"]} {distances[1][\"index\"]}')\n",
    "print(lines[0])\n",
    "for i in range(2):\n",
    "    print(lines[distances[i][\"index\"]])"
   ]
  },
  {
   "cell_type": "code",
   "execution_count": 163,
   "metadata": {},
   "outputs": [
    {
     "name": "stdout",
     "output_type": "stream",
     "text": [
      "6 4\n"
     ]
    }
   ],
   "source": [
    "input = open(\"sentences.txt\", \"r\")\n",
    "lines= list(map(str.lower, input.readlines()))\n",
    "words_for_lines = list(map(lambda line: re.split(\"[^a-z]\", line), lines))\n",
    "words_for_lines = [list(filter(len, words_for_line)) for words_for_line in words_for_lines]\n",
    "words_cnt_per_lines = [collections.Counter(words_for_line) for words_for_line in words_for_lines]\n",
    "words_index = dict()\n",
    "for line in words_for_lines:\n",
    "    for word in line:\n",
    "        if word not in words_index:\n",
    "            words_index[word] = len(words_index)\n",
    "n = len(lines)\n",
    "d = len(words_index)\n",
    "cnt_matrix = np.zeros((n, d))\n",
    "for index, words_cnt_per_line in enumerate(words_cnt_per_lines):\n",
    "    for word, cnt in words_cnt_per_lines[index].items():\n",
    "        cnt_matrix[index][words_index[word]] = cnt\n",
    "\n",
    "distances = zip(\n",
    "    map(\n",
    "        lambda cnt_row: scipy.spatial.distance.cosine(cnt_row, cnt_matrix[0]),\n",
    "        cnt_matrix\n",
    "    ),\n",
    "    range(n)\n",
    ")\n",
    "distances = sorted(distances, key=itemgetter(0))\n",
    "print(distances[1][1], distances[2][1])"
   ]
  }
 ],
 "metadata": {
  "kernelspec": {
   "display_name": "Python 3",
   "language": "python",
   "name": "python3"
  },
  "language_info": {
   "codemirror_mode": {
    "name": "ipython",
    "version": 3
   },
   "file_extension": ".py",
   "mimetype": "text/x-python",
   "name": "python",
   "nbconvert_exporter": "python",
   "pygments_lexer": "ipython3",
   "version": "3.6.1"
  }
 },
 "nbformat": 4,
 "nbformat_minor": 2
}
